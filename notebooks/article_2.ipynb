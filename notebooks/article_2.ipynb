{
 "cells": [
  {
   "cell_type": "markdown",
   "metadata": {},
   "source": [
    "# **ML model for predict Startup Success**"
   ]
  },
  {
   "cell_type": "markdown",
   "metadata": {},
   "source": [
    "This article moves to the next step: building and refining a model to predict startup success.\n",
    "\n",
    "Building on our work from 'Analyzing Key Factors That Lead to Successful Startups,' we'll now utilize the data prepared in this new article.\n",
    " \n",
    "Our discussion will cover training this model, find the best model for this case, adjusting its settings for better results, and checking how well it predicts outcomes.\n",
    "\n",
    "We’ll take a comprehensive look at the crucial process of Model Training with this specific Workflow : \n",
    "\n",
    "- Importing essential libraries\n",
    "- Data Preparation\n",
    "- Data Segmentation\n",
    "- Model Training\n",
    "- Validation\n",
    "- Hyperparameter Tuning\n",
    "- Testing \n",
    "- Evaluation\n",
    "\n",
    "Let's start by addressing a crucial question that consistently emerges at the beginning of model implementation:"
   ]
  },
  {
   "cell_type": "markdown",
   "metadata": {},
   "source": [
    " ####  **How to select the best machine learning model?**"
   ]
  },
  {
   "cell_type": "markdown",
   "metadata": {},
   "source": [
    "When trying to select the best model, identifying the specific problem you aim to solve is crucial, as it guides the selection of models suitable for your analysis.  After doing that you can identify if you're tackling a classification, regression, or clustering issue, the choice of model will vary accordingly. \n",
    "\n",
    "By preparing your data, training with different models, employing methods such as cross-validation and grid search, and analyzing the outcomes, you can identify the model that works best for you.\n",
    "\n",
    "In this article, we will try to predict the success of startups (whether they will be acquired or closed). Since the target is binary, we are dealing with a classification problem.\n",
    "\n",
    "It is generally considered best practice to experiment with various models to identify the most effective one. In my case, I will select Random Forest, Decision Tree, and Boosting models for evaluation.\n"
   ]
  },
  {
   "cell_type": "markdown",
   "metadata": {},
   "source": [
    " ####  **Importing essential libraries**"
   ]
  },
  {
   "cell_type": "markdown",
   "metadata": {},
   "source": [
    "Let's start by importing all necessary libraries that contain the tools and functions we need for our analysis and model building."
   ]
  },
  {
   "cell_type": "code",
   "execution_count": 1,
   "metadata": {},
   "outputs": [],
   "source": [
    "import pandas as pd\n",
    "from sklearn.model_selection import train_test_split\n",
    "from sklearn.metrics import classification_report, ConfusionMatrixDisplay\n",
    "from sklearn.model_selection import KFold\n",
    "from sklearn.model_selection import cross_val_score\n",
    "from matplotlib import pyplot as plt\n",
    "from sklearn.model_selection import GridSearchCV\n",
    "from sklearn.ensemble import RandomForestClassifier\n",
    "from sklearn import tree\n",
    "from sklearn.ensemble import GradientBoostingClassifier\n",
    "from sklearn import ensemble\n",
    "import os"
   ]
  },
  {
   "cell_type": "markdown",
   "metadata": {},
   "source": [
    "We're advancing our analysis by utilizing the cleaned dataset from our previous article on preprocessing for startup success prediction. "
   ]
  },
  {
   "cell_type": "markdown",
   "metadata": {},
   "source": [
    " ####  **Prepare the Data:** "
   ]
  },
  {
   "cell_type": "code",
   "execution_count": 2,
   "metadata": {},
   "outputs": [],
   "source": [
    "notebook_directory = 'notebooks'\n",
    "file_name = 'cleaned_data.csv'\n",
    "file_path = os.path.join('..', 'notebooks', 'cleaned_data.csv')\n",
    "data_df = pd.read_csv(file_path, encoding=\"ISO-8859-1\")"
   ]
  },
  {
   "cell_type": "code",
   "execution_count": 3,
   "metadata": {},
   "outputs": [
    {
     "name": "stdout",
     "output_type": "stream",
     "text": [
      "<class 'pandas.core.frame.DataFrame'>\n",
      "RangeIndex: 923 entries, 0 to 922\n",
      "Data columns (total 31 columns):\n",
      " #   Column                      Non-Null Count  Dtype  \n",
      "---  ------                      --------------  -----  \n",
      " 0   state_code                  923 non-null    int64  \n",
      " 1   city                        923 non-null    int64  \n",
      " 2   age_first_funding_year      923 non-null    float64\n",
      " 3   age_last_funding_year       923 non-null    float64\n",
      " 4   age_first_milestone_year    923 non-null    float64\n",
      " 5   age_last_milestone_year     923 non-null    float64\n",
      " 6   relationships               923 non-null    int64  \n",
      " 7   funding_rounds              923 non-null    int64  \n",
      " 8   funding_total_usd           923 non-null    int64  \n",
      " 9   milestones                  923 non-null    int64  \n",
      " 10  category_code               923 non-null    int64  \n",
      " 11  has_VC                      923 non-null    int64  \n",
      " 12  has_angel                   923 non-null    int64  \n",
      " 13  has_roundA                  923 non-null    int64  \n",
      " 14  has_roundB                  923 non-null    int64  \n",
      " 15  has_roundC                  923 non-null    int64  \n",
      " 16  has_roundD                  923 non-null    int64  \n",
      " 17  avg_participants            923 non-null    float64\n",
      " 18  is_top500                   923 non-null    int64  \n",
      " 19  status                      923 non-null    int64  \n",
      " 20  diff_founded_first_funding  923 non-null    int64  \n",
      " 21  diff_founded_last_funding   923 non-null    int64  \n",
      " 22  negative_first_funding      923 non-null    int64  \n",
      " 23  negative_last_funding       923 non-null    int64  \n",
      " 24  negative_first_milestone    923 non-null    int64  \n",
      " 25  negative_last_milestone     923 non-null    int64  \n",
      " 26  is_outlier                  923 non-null    int64  \n",
      " 27  founded_year                923 non-null    int64  \n",
      " 28  founded_at_days             923 non-null    int64  \n",
      " 29  first_funding_at_days       923 non-null    int64  \n",
      " 30  last_funding_at_days        923 non-null    int64  \n",
      "dtypes: float64(5), int64(26)\n",
      "memory usage: 223.7 KB\n"
     ]
    }
   ],
   "source": [
    "data_df.info()"
   ]
  },
  {
   "cell_type": "markdown",
   "metadata": {},
   "source": [
    "Now that we've loaded the data, it's time to divide it into training, validation, and test sets."
   ]
  },
  {
   "cell_type": "markdown",
   "metadata": {},
   "source": [
    "####  **Data Segmentation**\n"
   ]
  },
  {
   "cell_type": "markdown",
   "metadata": {},
   "source": [
    "Data segmentation is the process where we split the dataset into parts for training and testing the model. It helps the model learn from one part and get tested on another. This step is key for making the model predict well.\n",
    "\n",
    "Defining inputs and the target variable is crucial as it guides the model on what information to use for predictions and which outcome to forecast. Inputs, also known as features, are the data points the model analyzes, while the target variable is what we're trying to predict. "
   ]
  },
  {
   "cell_type": "code",
   "execution_count": 4,
   "metadata": {},
   "outputs": [],
   "source": [
    "inputs= data_df.drop('status', axis=1)  \n",
    "target = data_df['status']"
   ]
  },
  {
   "cell_type": "markdown",
   "metadata": {},
   "source": [
    "To split the dataset into parts for training and testing the model we will use the following train_test_split function."
   ]
  },
  {
   "cell_type": "code",
   "execution_count": 5,
   "metadata": {},
   "outputs": [],
   "source": [
    "x_train, x_test, y_train, y_test = train_test_split(inputs, target, test_size=0.2, random_state=42)"
   ]
  },
  {
   "cell_type": "markdown",
   "metadata": {},
   "source": [
    "With test_size=0.2, we use 20% of the data for testing and the rest for training.\n",
    "random_state=42 makes sure the split is the same every time we run the code.\n",
    "\n",
    "After splitting our data, let's proceed to the next step: training our model"
   ]
  },
  {
   "cell_type": "markdown",
   "metadata": {},
   "source": [
    "####  **Train various models:** "
   ]
  },
  {
   "cell_type": "markdown",
   "metadata": {},
   "source": [
    "Train various models that are suitable for your problem. Include a mix of simple and complex models (like Decision Trees, Random Forest, Gradient Boosting, SVM, Neural Networks).**\n",
    "\n",
    "Model training is the transformative process where algorithms learn from data to make predictions, classifications, or decisions."
   ]
  },
  {
   "cell_type": "markdown",
   "metadata": {},
   "source": [
    "####  **Cross Validation**"
   ]
  },
  {
   "cell_type": "markdown",
   "metadata": {},
   "source": [
    "\n",
    "Use k-fold cross-validation to assess the generalizability of your models on unseen data. This helps to mitigate the risk of overfitting to the training set.\n",
    "\n",
    "In this scenario, we apply cross-validation to three models:\n",
    "\n",
    "- Random Forest \n",
    "- Gradient Boosting \n",
    "- Decision Tree Classifier \n",
    "  \n",
    "By utilizing the cross_val_score function, we can evaluate how well each model performs without altering their settings. This approach enables us to identify which model is most effective with our data right from the beginning."
   ]
  },
  {
   "cell_type": "code",
   "execution_count": 6,
   "metadata": {},
   "outputs": [
    {
     "name": "stdout",
     "output_type": "stream",
     "text": [
      "Model: Decision Tree\n",
      "Scores for each fold: [0.74324324 0.66216216 0.72972973 0.76190476 0.72108844]\n",
      "Average score: 0.72\n",
      "\n",
      "Model: Gradient Boosting\n",
      "Scores for each fold: [0.84459459 0.75675676 0.77027027 0.78231293 0.85034014]\n",
      "Average score: 0.80\n",
      "\n",
      "Model: Random Forest\n",
      "Scores for each fold: [0.85810811 0.77027027 0.79054054 0.78911565 0.88435374]\n",
      "Average score: 0.82\n",
      "\n"
     ]
    }
   ],
   "source": [
    "from sklearn.model_selection import KFold, cross_val_score\n",
    "from sklearn.tree import DecisionTreeClassifier\n",
    "from sklearn.ensemble import GradientBoostingClassifier, RandomForestClassifier\n",
    "\n",
    "def perform_cross_validation(models, x_train, y_train, kf):\n",
    "    \"\"\"\n",
    "    Perform cross-validation for multiple models.\n",
    "    \n",
    "    Args:\n",
    "    - models (dict): A dictionary where keys are model names and values are model instances.\n",
    "    - x_train (array-like): Training features.\n",
    "    - y_train (array-like): Training labels.\n",
    "    - kf: Cross-validation strategy.\n",
    "    \n",
    "    Returns:\n",
    "    - results (dict): A dictionary containing the average accuracy scores for each model.\n",
    "    \"\"\"\n",
    "    results = {}\n",
    "    for model_name, model in models.items():\n",
    "        scores = cross_val_score(model, x_train, y_train, cv=kf, scoring=\"accuracy\")\n",
    "        average_score = scores.mean()\n",
    "        results[model_name] = average_score\n",
    "        print(f'Model: {model_name}')\n",
    "        print(f'Scores for each fold: {scores}')\n",
    "        print(f'Average score: {average_score:.2f}\\n')\n",
    "    return results\n",
    "\n",
    "# Define models\n",
    "models = {\n",
    "    'Decision Tree': DecisionTreeClassifier(random_state=42),\n",
    "    'Gradient Boosting': GradientBoostingClassifier(random_state=42),\n",
    "    'Random Forest': RandomForestClassifier(random_state=42)\n",
    "}\n",
    "\n",
    "# Define KFold\n",
    "kf = KFold(n_splits=5, shuffle=True, random_state=42)\n",
    "\n",
    "# Perform cross-validation\n",
    "results = perform_cross_validation(models, x_train, y_train, kf)\n"
   ]
  },
  {
   "cell_type": "markdown",
   "metadata": {},
   "source": [
    "Based on the scores from each fold, it's clear that the Random Forest model performs the best with an average score of 0.81.\n",
    "\n",
    "The higher average score of the Random Forest model suggests it is more effective at predicting startup success in our scenario. To further improve its performance, we plan to optimize the model's parameters."
   ]
  },
  {
   "cell_type": "markdown",
   "metadata": {},
   "source": [
    "####  **Optimizing hyperparameters with SearchGridCV** ###"
   ]
  },
  {
   "cell_type": "markdown",
   "metadata": {},
   "source": [
    "Optimizing hyperparameters with GridSearchCV refers to a technique used in machine learning to find the best combination of hyperparameters for a given model. \n",
    "\n",
    "Optimizing parameters for all three models Decision Tree, Gradient Boosting, and Random Forest is crucial despite the initial performance differences. This step is important because it allows us to maximize each model's predictive capabilities by fine tuning how they learn from the data. \n",
    "\n",
    "Even if the Random Forest model currently shows the best performance, optimizing the Decision Tree and Gradient Boosting models could uncover potential improvements that weren't initially apparent. Parameter optimization can adjust for overfitting or underfitting, enhance model accuracy, and ensure that each model operates at its most efficient. "
   ]
  },
  {
   "cell_type": "code",
   "execution_count": 7,
   "metadata": {},
   "outputs": [
    {
     "name": "stdout",
     "output_type": "stream",
     "text": [
      "Random Forest Best Hyperparameters: {'max_depth': None, 'min_samples_split': 5, 'n_estimators': 150}\n",
      "Random Forest Best Accuracy: 0.8239382239382239\n",
      "Decision Tree Best Hyperparameters: {'max_depth': 10, 'min_samples_split': 10}\n",
      "Decision Tree Best Accuracy: 0.7547435190292333\n",
      "Gradient Boosting Best Hyperparameters: {'learning_rate': 0.1, 'max_depth': 5, 'n_estimators': 150}\n",
      "Gradient Boosting Best Accuracy: 0.8144236072807501\n"
     ]
    }
   ],
   "source": [
    "from sklearn.model_selection import GridSearchCV\n",
    "from sklearn.ensemble import RandomForestClassifier, GradientBoostingClassifier\n",
    "from sklearn.tree import DecisionTreeClassifier\n",
    "\n",
    "def perform_grid_search(models, x_train, y_train, kf):\n",
    "    \"\"\"\n",
    "    Perform GridSearchCV for multiple models.\n",
    "    \n",
    "    Args:\n",
    "    - models (dict): A dictionary where keys are model names and values are tuples containing model instances\n",
    "                     and corresponding parameter grids.\n",
    "    - x_train (array-like): Training features.\n",
    "    - y_train (array-like): Training labels.\n",
    "    - kf: Cross-validation strategy.\n",
    "    \n",
    "    Returns:\n",
    "    - best_models (dict): A dictionary containing the best models for each model name.\n",
    "    \"\"\"\n",
    "    best_models = {}\n",
    "    for model_name, (model, param_grid) in models.items():\n",
    "        grid_search = GridSearchCV(model, param_grid, cv=kf, scoring='accuracy')\n",
    "        best_model = grid_search.fit(x_train, y_train)\n",
    "        best_models[model_name] = best_model\n",
    "        print(f\"{model_name} Best Hyperparameters:\", best_model.best_params_)\n",
    "        print(f\"{model_name} Best Accuracy:\", best_model.best_score_)\n",
    "    return best_models\n",
    "\n",
    "# Define the parameter grids for each model\n",
    "param_grids = {\n",
    "    'Random Forest': (RandomForestClassifier(random_state=42), {\n",
    "        'n_estimators': [50, 100, 150],\n",
    "        'max_depth': [None, 10, 20],\n",
    "        'min_samples_split': [2, 5, 10],\n",
    "    }),\n",
    "    'Decision Tree': (DecisionTreeClassifier(random_state=42), {\n",
    "        'max_depth': [None, 10, 20],\n",
    "        'min_samples_split': [2, 5, 10],\n",
    "    }),\n",
    "    'Gradient Boosting': (GradientBoostingClassifier(random_state=42), {\n",
    "        'n_estimators': [50, 100, 150],\n",
    "        'max_depth': [3, 5, 10],\n",
    "        'learning_rate': [0.01, 0.1, 0.5],\n",
    "    }),\n",
    "}\n",
    "\n",
    "# Call the function to perform grid search\n",
    "best_models = perform_grid_search(param_grids, x_train, y_train, kf)"
   ]
  },
  {
   "cell_type": "markdown",
   "metadata": {},
   "source": [
    "After optimizing the hyperparameters for each model, the Random Forest model emerges as the best option with the highest accuracy of approximately 0.82. \n",
    "\n",
    "This model benefits from the optimal settings of no maximum depth, a minimum of 10 samples required to split a node, and 150 estimators. \n",
    "\n",
    "Lets save the model and its attributtes."
   ]
  },
  {
   "cell_type": "code",
   "execution_count": 8,
   "metadata": {},
   "outputs": [],
   "source": [
    "#best_model will hold the trained machine learning model \n",
    "#with the optimal hyperparameters identified by GridSearchCV.\n",
    "# Save the best models and their attributes\n",
    "best_random_forest_model = best_models['Random Forest'].best_estimator_\n",
    "random_forest_feature_importances = best_random_forest_model.feature_importances_\n",
    "feature_names = x_train.columns"
   ]
  },
  {
   "cell_type": "markdown",
   "metadata": {},
   "source": [
    "Now, let's proceed to a step in our analysis where we will examine the feature importance as determined by our Random Forest model. \n",
    "\n",
    "This step involves identifying which factors are most predictive of a startup's success, be it getting acquired or ceasing operations. By analyzing the feature importance, we gain insights into which variables carry the most weight in our model’s decision making process. \n",
    "\n",
    "Here is a visual representation of the feature importance as identified by the Random Forest algorithm."
   ]
  },
  {
   "cell_type": "code",
   "execution_count": 9,
   "metadata": {},
   "outputs": [
    {
     "data": {
      "image/png": "[encoded data removed]",
      "text/plain": [
       "<Figure size 1000x800 with 1 Axes>"
      ]
     },
     "metadata": {},
     "output_type": "display_data"
    }
   ],
   "source": [
    "import numpy as np\n",
    "import seaborn as sns\n",
    "import matplotlib.pyplot as plt\n",
    "\n",
    "# Assuming 'best_random_forest_model' is already trained and 'feature_names' is defined\n",
    "random_forest = best_random_forest_model\n",
    "\n",
    "# Get feature importances from Random Forest model\n",
    "indices = np.argsort(random_forest.feature_importances_)[::-1][:40]\n",
    "\n",
    "# Create a figure for plotting\n",
    "plt.figure(figsize=(10, 8))\n",
    "\n",
    "# Create the bar plot for feature importances\n",
    "sns.barplot(y=np.array(feature_names)[indices][:40], x=random_forest.feature_importances_[indices][:40], orient='h')\n",
    "\n",
    "# Set the labels and title\n",
    "plt.xlabel(\"Relative importance\", fontsize=12)\n",
    "plt.ylabel(\"Features\", fontsize=12)\n",
    "plt.title(\"Random Forest feature importance\")\n",
    "plt.show()"
   ]
  },
  {
   "cell_type": "markdown",
   "metadata": {},
   "source": [
    "The chart suggests that, according to the Random Forest model, the number of relationships (which could mean the number of connections or partnerships a startup has) is the most significant predictor of whether a startup will be successful (acquired or closed).\n",
    "\n",
    " Features related to the age of the company at the last milestone, and the total funding received also play substantial roles.\n",
    "\n",
    " We're ready to transition into the testing phase."
   ]
  },
  {
   "cell_type": "markdown",
   "metadata": {},
   "source": [
    "####  **Testing**"
   ]
  },
  {
   "cell_type": "markdown",
   "metadata": {},
   "source": [
    "During the training phase, the model learns patterns from a designated training set. However, we can't fully trust the model's accuracy based solely on this training because it might simply memorize the training data, a problem known as overfitting. \n",
    "\n",
    "The model might perform well on the training data but fail to predict accurately on new data.\n",
    " \n",
    " Here, we'll put our model to the test against unseen data, which will help us evaluate the true robustness of our predictive capabilities.\n",
    " This is where we confirm whether the features deemed important indeed play a pivotal role in the real-world performance of the model."
   ]
  },
  {
   "cell_type": "code",
   "execution_count": 10,
   "metadata": {},
   "outputs": [
    {
     "name": "stdout",
     "output_type": "stream",
     "text": [
      "Test Accuracy: 0.7837837837837838\n"
     ]
    }
   ],
   "source": [
    "# Obtain the model's predictions on the test dataset\n",
    "from sklearn.metrics import accuracy_score\n",
    "y_test_pred = best_random_forest_model.predict(x_test)\n",
    "test_accuracy = accuracy_score(y_test, y_test_pred)\n",
    "print(\"Test Accuracy:\", test_accuracy)"
   ]
  },
  {
   "cell_type": "markdown",
   "metadata": {},
   "source": [
    "The testing phase has yielded a concrete measure of our model's performance: a test accuracy score. This score is a critical indicator of how well the Random Forest model, which we've fine-tuned, can predict the success of startups with data it has never processed before. \n",
    "\n",
    "The testing phase has yielded a concrete measure of our model's performance: a test accuracy score. This score is a critical indicator of how well the Random Forest model, which we've fine-tuned, can predict the success of startups with data it has never processed before. \n",
    "\n",
    "Following the test accuracy score, we further analyze the model's predictive outcomes. "
   ]
  },
  {
   "cell_type": "code",
   "execution_count": 11,
   "metadata": {},
   "outputs": [],
   "source": [
    "predicted_df = pd.DataFrame(y_test_pred, columns= [\"status\"])"
   ]
  },
  {
   "cell_type": "code",
   "execution_count": 12,
   "metadata": {},
   "outputs": [
    {
     "data": {
      "text/plain": [
       "status\n",
       "1    137\n",
       "0     48\n",
       "Name: count, dtype: int64"
      ]
     },
     "execution_count": 12,
     "metadata": {},
     "output_type": "execute_result"
    }
   ],
   "source": [
    "predicted_df [\"status\"].value_counts()"
   ]
  },
  {
   "cell_type": "markdown",
   "metadata": {},
   "source": [
    " By examining the distribution of predictions, we have a more nuanced understanding of the model's performance. The count of predictions made by the Random Forest model for the test data indicates a total of 138 startups predicted to be successful ('status' of 1) and 47 predicted to be unsuccessful ('status' of 0). \n",
    " \n",
    " This distribution provides insight into the model's tendency to forecast startup success within our test dataset, highlighting the potential real world application of the model in assessing new startups. It's an essential step in our evaluation, complementing the accuracy score and offering a clearer picture of the model's predictive behavior.\n",
    "\n",
    " Building on our understanding of the model's predictive performance and the distribution of its predictions, it's crucial to consider how we evaluate this success. Choosing appropriate metrics for evaluation is our next step. "
   ]
  },
  {
   "cell_type": "markdown",
   "metadata": {},
   "source": [
    "####  **Choose Appropriate Metrics for Evaluation:**"
   ]
  },
  {
   "cell_type": "markdown",
   "metadata": {},
   "source": [
    "Choosing the right metrics is essential for accurately evaluating our predictive model. Accuracy, precision, recall, and the F1 score each provide different perspectives on performance, particularly for imbalanced data. These metrics not only measure success rates but also help identify the types of errors, crucial for model refinement. \n",
    "\n",
    "For visual assessment, a confusion matrix and a classification report will clarify the model's strengths and weaknesses, guiding improvements and real-world application."
   ]
  },
  {
   "cell_type": "code",
   "execution_count": 13,
   "metadata": {},
   "outputs": [],
   "source": [
    "def model_performance(predicted_values, y_test):\n",
    "\n",
    "    ### 8- Model Performance Visualization Confusion of Matrix \n",
    "    print(\"Confusion Matrix:\")\n",
    "    confusion_matrix_display = ConfusionMatrixDisplay.from_predictions(\n",
    "        y_test, predicted_values,\n",
    "        labels = best_random_forest_model.classes_,\n",
    "        cmap = 'magma'\n",
    "    );\n",
    "    ### 9- Classification Report\n",
    "    print(\"Classification Report:\")\n",
    "    report = classification_report(y_test, predicted_values, target_names = ['acquired', 'closed'])\n",
    "    print(report)\n",
    "\n",
    "    return confusion_matrix_display,report"
   ]
  },
  {
   "cell_type": "markdown",
   "metadata": {},
   "source": [
    "**Model Evaluation:** "
   ]
  },
  {
   "cell_type": "code",
   "execution_count": 14,
   "metadata": {},
   "outputs": [
    {
     "name": "stdout",
     "output_type": "stream",
     "text": [
      "Confusion Matrix:\n",
      "Classification Report:\n",
      "              precision    recall  f1-score   support\n",
      "\n",
      "    acquired       0.81      0.56      0.66        70\n",
      "      closed       0.77      0.92      0.84       115\n",
      "\n",
      "    accuracy                           0.78       185\n",
      "   macro avg       0.79      0.74      0.75       185\n",
      "weighted avg       0.79      0.78      0.77       185\n",
      "\n"
     ]
    },
    {
     "data": {
      "image/png": "[encoded data removed]",
      "text/plain": [
       "<Figure size 640x480 with 2 Axes>"
      ]
     },
     "metadata": {},
     "output_type": "display_data"
    }
   ],
   "source": [
    "confusion_matrix_display,report= model_performance(y_test_pred, y_test)"
   ]
  },
  {
   "cell_type": "markdown",
   "metadata": {},
   "source": [
    "The confusion matrix and classification report provide a comprehensive view of the model's performance. \n",
    "\n",
    "The confusion matrix shows a substantial number of correct predictions, with 108 true positives (correctly predicted 'closed') and 40 true negatives (correctly predicted 'acquired'). \n",
    "\n",
    "However, there are also 30 false positives and 7 false negatives, indicating areas where the model may be improved.\n",
    "\n",
    "The classification report gives us precision, recall, and F1 scores for a more detailed analysis. The 'acquired' status has a high precision but lower recall, indicating that while most predictions of a startup being acquired are correct.\n",
    "\n",
    "The overall accuracy is 0.80, which, along with a weighted average F1 score of 0.79, demonstrates the model's good performance, albeit with room for improvement in distinguishing between the two outcomes."
   ]
  },
  {
   "cell_type": "markdown",
   "metadata": {},
   "source": [
    "####  **Conclusion**"
   ]
  },
  {
   "cell_type": "markdown",
   "metadata": {},
   "source": [
    "Selecting an algorithm for a particular problem isn't a matter of personal preference or subjectivity; rather, it's an objective process that becomes more manageable with experience.\n",
    "\n",
    "A crucial aspect of this process is the comparison of different models. By evaluating performance, generalization ability, interpretability, computational efficiency, and robustness, we've identified the most suitable model for our predictive task. Through stages such as data preparation, segmentation, model training, and evaluation, we've laid the groundwork for a predictive framework.\n",
    "\n",
    "Based on our evaluation metrics, such as Test Accuracy: 0.8, we have achieved a promising level of predictive performance. However, there is room for improvement. By analyzing errors and identifying recurring patterns in the data, we can refine our model further. This iterative process allows us to enhance the model's accuracy and effectiveness in predicting startup success.\n",
    "\n"
   ]
  },
  {
   "cell_type": "markdown",
   "metadata": {},
   "source": [
    "#### Saving and Loading Machine Learning Models with joblib in Python ####"
   ]
  },
  {
   "cell_type": "markdown",
   "metadata": {},
   "source": [
    "Once a model is trained and optimized, it's essential to save its state for future use or deployment.\n",
    "\n",
    "- The joblib library is a powerful tool for efficiently handling large NumPy arrays and is commonly used in the machine learning community for saving and loading models."
   ]
  },
  {
   "cell_type": "code",
   "execution_count": 15,
   "metadata": {},
   "outputs": [],
   "source": [
    "#Remember to re-run the saving and loading code whenever you make significant changes \n",
    "#to your model and want to persist those changes.\n",
    "\n",
    "import joblib\n",
    "# Defining the File Path\n",
    "# we set the file path where we intend to save and later load our machine learning model. \n",
    "# The chosen file path is '../data/best_model.joblib', indicating that the model will be saved in the 'data' directory.\n",
    "file_path = '../saved_model/best_model.joblib'\n",
    "\n",
    "# Save the entire model\n",
    "joblib.dump(best_random_forest_model, file_path)\n",
    "# Load the entire model\n",
    "# The joblib.load function is used to load the serialized model from the file specified by file_path.\n",
    "# The loaded model is then assigned to the variable loaded_model, making it ready for further use.\n",
    "loaded_model = joblib.load(file_path)"
   ]
  }
 ],
 "metadata": {
  "kernelspec": {
   "display_name": "startup",
   "language": "python",
   "name": "python3"
  },
  "language_info": {
   "codemirror_mode": {
    "name": "ipython",
    "version": 3
   },
   "file_extension": ".py",
   "mimetype": "text/x-python",
   "name": "python",
   "nbconvert_exporter": "python",
   "pygments_lexer": "ipython3",
   "version": "3.10.13"
  }
 },
 "nbformat": 4,
 "nbformat_minor": 2
}
